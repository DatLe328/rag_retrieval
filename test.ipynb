{
 "cells": [
  {
   "cell_type": "code",
   "execution_count": 74,
   "id": "c2d18001",
   "metadata": {},
   "outputs": [
    {
     "name": "stdout",
     "output_type": "stream",
     "text": [
      "{'deprecations': [], 'objects': []}\n"
     ]
    }
   ],
   "source": [
    "import requests\n",
    "r = requests.get(\"http://10.1.1.237:8080/v1/objects\",\n",
    "                 params={\"class\": \"VERBA_DOCUMENTS\", \"limit\": 5})\n",
    "print(r.json())\n"
   ]
  }
 ],
 "metadata": {
  "kernelspec": {
   "display_name": "venv",
   "language": "python",
   "name": "python3"
  },
  "language_info": {
   "codemirror_mode": {
    "name": "ipython",
    "version": 3
   },
   "file_extension": ".py",
   "mimetype": "text/x-python",
   "name": "python",
   "nbconvert_exporter": "python",
   "pygments_lexer": "ipython3",
   "version": "3.13.7"
  }
 },
 "nbformat": 4,
 "nbformat_minor": 5
}
